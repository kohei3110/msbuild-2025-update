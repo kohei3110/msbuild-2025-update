{
 "cells": [
  {
   "cell_type": "code",
   "execution_count": 11,
   "id": "64a2baf7",
   "metadata": {},
   "outputs": [
    {
     "name": "stdout",
     "output_type": "stream",
     "text": [
      "Requirement already satisfied: azure-ai-projects in c:\\users\\koheisaito\\appdata\\local\\anaconda3\\lib\\site-packages (1.0.0b11)\n",
      "Requirement already satisfied: azure-identity in c:\\users\\koheisaito\\appdata\\local\\anaconda3\\lib\\site-packages (1.23.0)\n",
      "Requirement already satisfied: azure-ai-evaluation in c:\\users\\koheisaito\\appdata\\local\\anaconda3\\lib\\site-packages (1.8.0)\n",
      "Collecting azure-ai-inference\n",
      "  Downloading azure_ai_inference-1.0.0b9-py3-none-any.whl.metadata (34 kB)\n",
      "Requirement already satisfied: isodate>=0.6.1 in c:\\users\\koheisaito\\appdata\\local\\anaconda3\\lib\\site-packages (from azure-ai-projects) (0.7.2)\n",
      "Requirement already satisfied: azure-core>=1.30.0 in c:\\users\\koheisaito\\appdata\\local\\anaconda3\\lib\\site-packages (from azure-ai-projects) (1.34.0)\n",
      "Requirement already satisfied: typing-extensions>=4.12.2 in c:\\users\\koheisaito\\appdata\\local\\anaconda3\\lib\\site-packages (from azure-ai-projects) (4.13.2)\n",
      "Requirement already satisfied: azure-storage-blob>=12.15.0 in c:\\users\\koheisaito\\appdata\\local\\anaconda3\\lib\\site-packages (from azure-ai-projects) (12.25.1)\n",
      "Requirement already satisfied: azure-ai-agents>=1.0.0b1 in c:\\users\\koheisaito\\appdata\\local\\anaconda3\\lib\\site-packages (from azure-ai-projects) (1.1.0b1)\n",
      "Requirement already satisfied: cryptography>=2.5 in c:\\users\\koheisaito\\appdata\\local\\anaconda3\\lib\\site-packages (from azure-identity) (43.0.0)\n",
      "Requirement already satisfied: msal>=1.30.0 in c:\\users\\koheisaito\\appdata\\local\\anaconda3\\lib\\site-packages (from azure-identity) (1.32.3)\n",
      "Requirement already satisfied: msal-extensions>=1.2.0 in c:\\users\\koheisaito\\appdata\\local\\anaconda3\\lib\\site-packages (from azure-identity) (1.3.1)\n",
      "Requirement already satisfied: promptflow-devkit>=1.17.1 in c:\\users\\koheisaito\\appdata\\local\\anaconda3\\lib\\site-packages (from azure-ai-evaluation) (1.18.0)\n",
      "Requirement already satisfied: promptflow-core>=1.17.1 in c:\\users\\koheisaito\\appdata\\local\\anaconda3\\lib\\site-packages (from azure-ai-evaluation) (1.18.0)\n",
      "Requirement already satisfied: pyjwt>=2.8.0 in c:\\users\\koheisaito\\appdata\\local\\anaconda3\\lib\\site-packages (from azure-ai-evaluation) (2.8.0)\n",
      "Requirement already satisfied: nltk>=3.9.1 in c:\\users\\koheisaito\\appdata\\local\\anaconda3\\lib\\site-packages (from azure-ai-evaluation) (3.9.1)\n",
      "Requirement already satisfied: httpx>=0.25.1 in c:\\users\\koheisaito\\appdata\\local\\anaconda3\\lib\\site-packages (from azure-ai-evaluation) (0.27.0)\n",
      "Requirement already satisfied: pandas<3.0.0,>=2.1.2 in c:\\users\\koheisaito\\appdata\\local\\anaconda3\\lib\\site-packages (from azure-ai-evaluation) (2.2.2)\n",
      "Requirement already satisfied: openai>=1.78.0 in c:\\users\\koheisaito\\appdata\\local\\anaconda3\\lib\\site-packages (from azure-ai-evaluation) (1.82.1)\n",
      "Requirement already satisfied: ruamel.yaml<1.0.0,>=0.17.10 in c:\\users\\koheisaito\\appdata\\local\\anaconda3\\lib\\site-packages (from azure-ai-evaluation) (0.18.6)\n",
      "Requirement already satisfied: msrest>=0.6.21 in c:\\users\\koheisaito\\appdata\\local\\anaconda3\\lib\\site-packages (from azure-ai-evaluation) (0.7.1)\n",
      "Requirement already satisfied: Jinja2>=3.1.6 in c:\\users\\koheisaito\\appdata\\local\\anaconda3\\lib\\site-packages (from azure-ai-evaluation) (3.1.6)\n",
      "Requirement already satisfied: aiohttp>=3.0 in c:\\users\\koheisaito\\appdata\\local\\anaconda3\\lib\\site-packages (from azure-ai-evaluation) (3.10.5)\n",
      "Requirement already satisfied: aiohappyeyeballs>=2.3.0 in c:\\users\\koheisaito\\appdata\\local\\anaconda3\\lib\\site-packages (from aiohttp>=3.0->azure-ai-evaluation) (2.4.0)\n",
      "Requirement already satisfied: aiosignal>=1.1.2 in c:\\users\\koheisaito\\appdata\\local\\anaconda3\\lib\\site-packages (from aiohttp>=3.0->azure-ai-evaluation) (1.2.0)\n",
      "Requirement already satisfied: attrs>=17.3.0 in c:\\users\\koheisaito\\appdata\\local\\anaconda3\\lib\\site-packages (from aiohttp>=3.0->azure-ai-evaluation) (23.1.0)\n",
      "Requirement already satisfied: frozenlist>=1.1.1 in c:\\users\\koheisaito\\appdata\\local\\anaconda3\\lib\\site-packages (from aiohttp>=3.0->azure-ai-evaluation) (1.4.0)\n",
      "Requirement already satisfied: multidict<7.0,>=4.5 in c:\\users\\koheisaito\\appdata\\local\\anaconda3\\lib\\site-packages (from aiohttp>=3.0->azure-ai-evaluation) (6.0.4)\n",
      "Requirement already satisfied: yarl<2.0,>=1.0 in c:\\users\\koheisaito\\appdata\\local\\anaconda3\\lib\\site-packages (from aiohttp>=3.0->azure-ai-evaluation) (1.11.0)\n",
      "Requirement already satisfied: requests>=2.21.0 in c:\\users\\koheisaito\\appdata\\local\\anaconda3\\lib\\site-packages (from azure-core>=1.30.0->azure-ai-projects) (2.32.3)\n",
      "Requirement already satisfied: six>=1.11.0 in c:\\users\\koheisaito\\appdata\\local\\anaconda3\\lib\\site-packages (from azure-core>=1.30.0->azure-ai-projects) (1.16.0)\n",
      "Requirement already satisfied: cffi>=1.12 in c:\\users\\koheisaito\\appdata\\local\\anaconda3\\lib\\site-packages (from cryptography>=2.5->azure-identity) (1.17.1)\n",
      "Requirement already satisfied: anyio in c:\\users\\koheisaito\\appdata\\local\\anaconda3\\lib\\site-packages (from httpx>=0.25.1->azure-ai-evaluation) (4.9.0)\n",
      "Requirement already satisfied: certifi in c:\\users\\koheisaito\\appdata\\local\\anaconda3\\lib\\site-packages (from httpx>=0.25.1->azure-ai-evaluation) (2024.8.30)\n",
      "Requirement already satisfied: httpcore==1.* in c:\\users\\koheisaito\\appdata\\local\\anaconda3\\lib\\site-packages (from httpx>=0.25.1->azure-ai-evaluation) (1.0.2)\n",
      "Requirement already satisfied: idna in c:\\users\\koheisaito\\appdata\\local\\anaconda3\\lib\\site-packages (from httpx>=0.25.1->azure-ai-evaluation) (3.7)\n",
      "Requirement already satisfied: sniffio in c:\\users\\koheisaito\\appdata\\local\\anaconda3\\lib\\site-packages (from httpx>=0.25.1->azure-ai-evaluation) (1.3.0)\n",
      "Requirement already satisfied: h11<0.15,>=0.13 in c:\\users\\koheisaito\\appdata\\local\\anaconda3\\lib\\site-packages (from httpcore==1.*->httpx>=0.25.1->azure-ai-evaluation) (0.14.0)\n",
      "Requirement already satisfied: MarkupSafe>=2.0 in c:\\users\\koheisaito\\appdata\\local\\anaconda3\\lib\\site-packages (from Jinja2>=3.1.6->azure-ai-evaluation) (2.1.3)\n",
      "Requirement already satisfied: requests-oauthlib>=0.5.0 in c:\\users\\koheisaito\\appdata\\local\\anaconda3\\lib\\site-packages (from msrest>=0.6.21->azure-ai-evaluation) (2.0.0)\n",
      "Requirement already satisfied: click in c:\\users\\koheisaito\\appdata\\local\\anaconda3\\lib\\site-packages (from nltk>=3.9.1->azure-ai-evaluation) (8.1.7)\n",
      "Requirement already satisfied: joblib in c:\\users\\koheisaito\\appdata\\local\\anaconda3\\lib\\site-packages (from nltk>=3.9.1->azure-ai-evaluation) (1.4.2)\n",
      "Requirement already satisfied: regex>=2021.8.3 in c:\\users\\koheisaito\\appdata\\local\\anaconda3\\lib\\site-packages (from nltk>=3.9.1->azure-ai-evaluation) (2024.9.11)\n",
      "Requirement already satisfied: tqdm in c:\\users\\koheisaito\\appdata\\local\\anaconda3\\lib\\site-packages (from nltk>=3.9.1->azure-ai-evaluation) (4.66.5)\n",
      "Requirement already satisfied: distro<2,>=1.7.0 in c:\\users\\koheisaito\\appdata\\local\\anaconda3\\lib\\site-packages (from openai>=1.78.0->azure-ai-evaluation) (1.9.0)\n",
      "Requirement already satisfied: jiter<1,>=0.4.0 in c:\\users\\koheisaito\\appdata\\local\\anaconda3\\lib\\site-packages (from openai>=1.78.0->azure-ai-evaluation) (0.10.0)\n",
      "Requirement already satisfied: pydantic<3,>=1.9.0 in c:\\users\\koheisaito\\appdata\\local\\anaconda3\\lib\\site-packages (from openai>=1.78.0->azure-ai-evaluation) (2.8.2)\n",
      "Requirement already satisfied: numpy>=1.26.0 in c:\\users\\koheisaito\\appdata\\local\\anaconda3\\lib\\site-packages (from pandas<3.0.0,>=2.1.2->azure-ai-evaluation) (1.26.4)\n",
      "Requirement already satisfied: python-dateutil>=2.8.2 in c:\\users\\koheisaito\\appdata\\local\\anaconda3\\lib\\site-packages (from pandas<3.0.0,>=2.1.2->azure-ai-evaluation) (2.9.0.post0)\n",
      "Requirement already satisfied: pytz>=2020.1 in c:\\users\\koheisaito\\appdata\\local\\anaconda3\\lib\\site-packages (from pandas<3.0.0,>=2.1.2->azure-ai-evaluation) (2024.1)\n",
      "Requirement already satisfied: tzdata>=2022.7 in c:\\users\\koheisaito\\appdata\\local\\anaconda3\\lib\\site-packages (from pandas<3.0.0,>=2.1.2->azure-ai-evaluation) (2023.3)\n",
      "Requirement already satisfied: docstring_parser in c:\\users\\koheisaito\\appdata\\local\\anaconda3\\lib\\site-packages (from promptflow-core>=1.17.1->azure-ai-evaluation) (0.16)\n",
      "Requirement already satisfied: fastapi<1.0.0,>=0.109.0 in c:\\users\\koheisaito\\appdata\\local\\anaconda3\\lib\\site-packages (from promptflow-core>=1.17.1->azure-ai-evaluation) (0.115.12)\n",
      "Requirement already satisfied: filetype>=1.2.0 in c:\\users\\koheisaito\\appdata\\local\\anaconda3\\lib\\site-packages (from promptflow-core>=1.17.1->azure-ai-evaluation) (1.2.0)\n",
      "Requirement already satisfied: flask<4.0.0,>=2.2.3 in c:\\users\\koheisaito\\appdata\\local\\anaconda3\\lib\\site-packages (from promptflow-core>=1.17.1->azure-ai-evaluation) (3.0.3)\n",
      "Requirement already satisfied: jsonschema<5.0.0,>=4.0.0 in c:\\users\\koheisaito\\appdata\\local\\anaconda3\\lib\\site-packages (from promptflow-core>=1.17.1->azure-ai-evaluation) (4.23.0)\n",
      "Requirement already satisfied: promptflow-tracing==1.18.0 in c:\\users\\koheisaito\\appdata\\local\\anaconda3\\lib\\site-packages (from promptflow-core>=1.17.1->azure-ai-evaluation) (1.18.0)\n",
      "Requirement already satisfied: psutil in c:\\users\\koheisaito\\appdata\\local\\anaconda3\\lib\\site-packages (from promptflow-core>=1.17.1->azure-ai-evaluation) (5.9.0)\n",
      "Requirement already satisfied: opentelemetry-sdk<2.0.0,>=1.22.0 in c:\\users\\koheisaito\\appdata\\local\\anaconda3\\lib\\site-packages (from promptflow-tracing==1.18.0->promptflow-core>=1.17.1->azure-ai-evaluation) (1.33.1)\n",
      "Requirement already satisfied: tiktoken>=0.4.0 in c:\\users\\koheisaito\\appdata\\local\\anaconda3\\lib\\site-packages (from promptflow-tracing==1.18.0->promptflow-core>=1.17.1->azure-ai-evaluation) (0.9.0)\n",
      "Requirement already satisfied: argcomplete>=3.2.3 in c:\\users\\koheisaito\\appdata\\local\\anaconda3\\lib\\site-packages (from promptflow-devkit>=1.17.1->azure-ai-evaluation) (3.6.2)\n",
      "Requirement already satisfied: azure-monitor-opentelemetry-exporter<2.0.0,>=1.0.0b21 in c:\\users\\koheisaito\\appdata\\local\\anaconda3\\lib\\site-packages (from promptflow-devkit>=1.17.1->azure-ai-evaluation) (1.0.0b37)\n",
      "Requirement already satisfied: colorama<0.5.0,>=0.4.6 in c:\\users\\koheisaito\\appdata\\local\\anaconda3\\lib\\site-packages (from promptflow-devkit>=1.17.1->azure-ai-evaluation) (0.4.6)\n",
      "Requirement already satisfied: filelock<4.0.0,>=3.4.0 in c:\\users\\koheisaito\\appdata\\local\\anaconda3\\lib\\site-packages (from promptflow-devkit>=1.17.1->azure-ai-evaluation) (3.13.1)\n",
      "Requirement already satisfied: flask-cors<6.0.0,>=5.0.0 in c:\\users\\koheisaito\\appdata\\local\\anaconda3\\lib\\site-packages (from promptflow-devkit>=1.17.1->azure-ai-evaluation) (5.0.1)\n",
      "Requirement already satisfied: flask-restx<2.0.0,>=1.2.0 in c:\\users\\koheisaito\\appdata\\local\\anaconda3\\lib\\site-packages (from promptflow-devkit>=1.17.1->azure-ai-evaluation) (1.3.0)\n",
      "Requirement already satisfied: gitpython<4.0.0,>=3.1.24 in c:\\users\\koheisaito\\appdata\\local\\anaconda3\\lib\\site-packages (from promptflow-devkit>=1.17.1->azure-ai-evaluation) (3.1.43)\n",
      "Requirement already satisfied: keyring<25.0.0,>=24.2.0 in c:\\users\\koheisaito\\appdata\\local\\anaconda3\\lib\\site-packages (from promptflow-devkit>=1.17.1->azure-ai-evaluation) (24.3.1)\n",
      "Requirement already satisfied: marshmallow<4.0.0,>=3.5 in c:\\users\\koheisaito\\appdata\\local\\anaconda3\\lib\\site-packages (from promptflow-devkit>=1.17.1->azure-ai-evaluation) (3.26.1)\n",
      "Requirement already satisfied: opentelemetry-exporter-otlp-proto-http<2.0.0,>=1.22.0 in c:\\users\\koheisaito\\appdata\\local\\anaconda3\\lib\\site-packages (from promptflow-devkit>=1.17.1->azure-ai-evaluation) (1.33.1)\n",
      "Requirement already satisfied: pillow<11.1.0,>=10.1.0 in c:\\users\\koheisaito\\appdata\\local\\anaconda3\\lib\\site-packages (from promptflow-devkit>=1.17.1->azure-ai-evaluation) (10.4.0)\n",
      "Requirement already satisfied: pydash<8.0.0,>=6.0.0 in c:\\users\\koheisaito\\appdata\\local\\anaconda3\\lib\\site-packages (from promptflow-devkit>=1.17.1->azure-ai-evaluation) (7.0.7)\n",
      "Requirement already satisfied: python-dotenv<2.0.0,>=1.0.0 in c:\\users\\koheisaito\\appdata\\local\\anaconda3\\lib\\site-packages (from promptflow-devkit>=1.17.1->azure-ai-evaluation) (1.1.0)\n",
      "Requirement already satisfied: pywin32 in c:\\users\\koheisaito\\appdata\\local\\anaconda3\\lib\\site-packages (from promptflow-devkit>=1.17.1->azure-ai-evaluation) (305.1)\n",
      "Requirement already satisfied: sqlalchemy<3.0.0,>=1.4.48 in c:\\users\\koheisaito\\appdata\\local\\anaconda3\\lib\\site-packages (from promptflow-devkit>=1.17.1->azure-ai-evaluation) (2.0.34)\n",
      "Requirement already satisfied: strictyaml<2.0.0,>=1.5.0 in c:\\users\\koheisaito\\appdata\\local\\anaconda3\\lib\\site-packages (from promptflow-devkit>=1.17.1->azure-ai-evaluation) (1.7.3)\n",
      "Requirement already satisfied: tabulate<1.0.0,>=0.9.0 in c:\\users\\koheisaito\\appdata\\local\\anaconda3\\lib\\site-packages (from promptflow-devkit>=1.17.1->azure-ai-evaluation) (0.9.0)\n",
      "Requirement already satisfied: waitress<4.0.0,>=3.0.0 in c:\\users\\koheisaito\\appdata\\local\\anaconda3\\lib\\site-packages (from promptflow-devkit>=1.17.1->azure-ai-evaluation) (3.0.2)\n",
      "Requirement already satisfied: ruamel.yaml.clib>=0.2.7 in c:\\users\\koheisaito\\appdata\\local\\anaconda3\\lib\\site-packages (from ruamel.yaml<1.0.0,>=0.17.10->azure-ai-evaluation) (0.2.8)\n",
      "Requirement already satisfied: fixedint==0.1.6 in c:\\users\\koheisaito\\appdata\\local\\anaconda3\\lib\\site-packages (from azure-monitor-opentelemetry-exporter<2.0.0,>=1.0.0b21->promptflow-devkit>=1.17.1->azure-ai-evaluation) (0.1.6)\n",
      "Requirement already satisfied: opentelemetry-api~=1.26 in c:\\users\\koheisaito\\appdata\\local\\anaconda3\\lib\\site-packages (from azure-monitor-opentelemetry-exporter<2.0.0,>=1.0.0b21->promptflow-devkit>=1.17.1->azure-ai-evaluation) (1.33.1)\n",
      "Requirement already satisfied: pycparser in c:\\users\\koheisaito\\appdata\\local\\anaconda3\\lib\\site-packages (from cffi>=1.12->cryptography>=2.5->azure-identity) (2.21)\n",
      "Requirement already satisfied: starlette<0.47.0,>=0.40.0 in c:\\users\\koheisaito\\appdata\\local\\anaconda3\\lib\\site-packages (from fastapi<1.0.0,>=0.109.0->promptflow-core>=1.17.1->azure-ai-evaluation) (0.46.2)\n",
      "Requirement already satisfied: Werkzeug>=3.0.0 in c:\\users\\koheisaito\\appdata\\local\\anaconda3\\lib\\site-packages (from flask<4.0.0,>=2.2.3->promptflow-core>=1.17.1->azure-ai-evaluation) (3.0.3)\n",
      "Requirement already satisfied: itsdangerous>=2.1.2 in c:\\users\\koheisaito\\appdata\\local\\anaconda3\\lib\\site-packages (from flask<4.0.0,>=2.2.3->promptflow-core>=1.17.1->azure-ai-evaluation) (2.2.0)\n",
      "Requirement already satisfied: blinker>=1.6.2 in c:\\users\\koheisaito\\appdata\\local\\anaconda3\\lib\\site-packages (from flask<4.0.0,>=2.2.3->promptflow-core>=1.17.1->azure-ai-evaluation) (1.6.2)\n",
      "Requirement already satisfied: aniso8601>=0.82 in c:\\users\\koheisaito\\appdata\\local\\anaconda3\\lib\\site-packages (from flask-restx<2.0.0,>=1.2.0->promptflow-devkit>=1.17.1->azure-ai-evaluation) (10.0.1)\n",
      "Requirement already satisfied: importlib-resources in c:\\users\\koheisaito\\appdata\\local\\anaconda3\\lib\\site-packages (from flask-restx<2.0.0,>=1.2.0->promptflow-devkit>=1.17.1->azure-ai-evaluation) (6.5.2)\n",
      "Requirement already satisfied: gitdb<5,>=4.0.1 in c:\\users\\koheisaito\\appdata\\local\\anaconda3\\lib\\site-packages (from gitpython<4.0.0,>=3.1.24->promptflow-devkit>=1.17.1->azure-ai-evaluation) (4.0.7)\n",
      "Requirement already satisfied: jsonschema-specifications>=2023.03.6 in c:\\users\\koheisaito\\appdata\\local\\anaconda3\\lib\\site-packages (from jsonschema<5.0.0,>=4.0.0->promptflow-core>=1.17.1->azure-ai-evaluation) (2023.7.1)\n",
      "Requirement already satisfied: referencing>=0.28.4 in c:\\users\\koheisaito\\appdata\\local\\anaconda3\\lib\\site-packages (from jsonschema<5.0.0,>=4.0.0->promptflow-core>=1.17.1->azure-ai-evaluation) (0.30.2)\n",
      "Requirement already satisfied: rpds-py>=0.7.1 in c:\\users\\koheisaito\\appdata\\local\\anaconda3\\lib\\site-packages (from jsonschema<5.0.0,>=4.0.0->promptflow-core>=1.17.1->azure-ai-evaluation) (0.10.6)\n",
      "Requirement already satisfied: jaraco.classes in c:\\users\\koheisaito\\appdata\\local\\anaconda3\\lib\\site-packages (from keyring<25.0.0,>=24.2.0->promptflow-devkit>=1.17.1->azure-ai-evaluation) (3.2.1)\n",
      "Requirement already satisfied: pywin32-ctypes>=0.2.0 in c:\\users\\koheisaito\\appdata\\local\\anaconda3\\lib\\site-packages (from keyring<25.0.0,>=24.2.0->promptflow-devkit>=1.17.1->azure-ai-evaluation) (0.2.2)\n",
      "Requirement already satisfied: packaging>=17.0 in c:\\users\\koheisaito\\appdata\\local\\anaconda3\\lib\\site-packages (from marshmallow<4.0.0,>=3.5->promptflow-devkit>=1.17.1->azure-ai-evaluation) (24.1)\n",
      "Requirement already satisfied: deprecated>=1.2.6 in c:\\users\\koheisaito\\appdata\\local\\anaconda3\\lib\\site-packages (from opentelemetry-exporter-otlp-proto-http<2.0.0,>=1.22.0->promptflow-devkit>=1.17.1->azure-ai-evaluation) (1.2.18)\n",
      "Requirement already satisfied: googleapis-common-protos~=1.52 in c:\\users\\koheisaito\\appdata\\local\\anaconda3\\lib\\site-packages (from opentelemetry-exporter-otlp-proto-http<2.0.0,>=1.22.0->promptflow-devkit>=1.17.1->azure-ai-evaluation) (1.70.0)\n",
      "Requirement already satisfied: opentelemetry-exporter-otlp-proto-common==1.33.1 in c:\\users\\koheisaito\\appdata\\local\\anaconda3\\lib\\site-packages (from opentelemetry-exporter-otlp-proto-http<2.0.0,>=1.22.0->promptflow-devkit>=1.17.1->azure-ai-evaluation) (1.33.1)\n",
      "Requirement already satisfied: opentelemetry-proto==1.33.1 in c:\\users\\koheisaito\\appdata\\local\\anaconda3\\lib\\site-packages (from opentelemetry-exporter-otlp-proto-http<2.0.0,>=1.22.0->promptflow-devkit>=1.17.1->azure-ai-evaluation) (1.33.1)\n",
      "Requirement already satisfied: protobuf<6.0,>=5.0 in c:\\users\\koheisaito\\appdata\\local\\anaconda3\\lib\\site-packages (from opentelemetry-proto==1.33.1->opentelemetry-exporter-otlp-proto-http<2.0.0,>=1.22.0->promptflow-devkit>=1.17.1->azure-ai-evaluation) (5.29.5)\n",
      "Requirement already satisfied: annotated-types>=0.4.0 in c:\\users\\koheisaito\\appdata\\local\\anaconda3\\lib\\site-packages (from pydantic<3,>=1.9.0->openai>=1.78.0->azure-ai-evaluation) (0.6.0)\n",
      "Requirement already satisfied: pydantic-core==2.20.1 in c:\\users\\koheisaito\\appdata\\local\\anaconda3\\lib\\site-packages (from pydantic<3,>=1.9.0->openai>=1.78.0->azure-ai-evaluation) (2.20.1)\n",
      "Requirement already satisfied: charset-normalizer<4,>=2 in c:\\users\\koheisaito\\appdata\\local\\anaconda3\\lib\\site-packages (from requests>=2.21.0->azure-core>=1.30.0->azure-ai-projects) (3.3.2)\n",
      "Requirement already satisfied: urllib3<3,>=1.21.1 in c:\\users\\koheisaito\\appdata\\local\\anaconda3\\lib\\site-packages (from requests>=2.21.0->azure-core>=1.30.0->azure-ai-projects) (2.2.3)\n",
      "Requirement already satisfied: oauthlib>=3.0.0 in c:\\users\\koheisaito\\appdata\\local\\anaconda3\\lib\\site-packages (from requests-oauthlib>=0.5.0->msrest>=0.6.21->azure-ai-evaluation) (3.2.2)\n",
      "Requirement already satisfied: wrapt<2,>=1.10 in c:\\users\\koheisaito\\appdata\\local\\anaconda3\\lib\\site-packages (from deprecated>=1.2.6->opentelemetry-exporter-otlp-proto-http<2.0.0,>=1.22.0->promptflow-devkit>=1.17.1->azure-ai-evaluation) (1.14.1)\n",
      "Requirement already satisfied: smmap<5,>=3.0.1 in c:\\users\\koheisaito\\appdata\\local\\anaconda3\\lib\\site-packages (from gitdb<5,>=4.0.1->gitpython<4.0.0,>=3.1.24->promptflow-devkit>=1.17.1->azure-ai-evaluation) (4.0.0)\n",
      "Requirement already satisfied: importlib-metadata<8.7.0,>=6.0 in c:\\users\\koheisaito\\appdata\\local\\anaconda3\\lib\\site-packages (from opentelemetry-api~=1.26->azure-monitor-opentelemetry-exporter<2.0.0,>=1.0.0b21->promptflow-devkit>=1.17.1->azure-ai-evaluation) (7.0.1)\n",
      "Requirement already satisfied: opentelemetry-semantic-conventions==0.54b1 in c:\\users\\koheisaito\\appdata\\local\\anaconda3\\lib\\site-packages (from opentelemetry-sdk<2.0.0,>=1.22.0->promptflow-tracing==1.18.0->promptflow-core>=1.17.1->azure-ai-evaluation) (0.54b1)\n",
      "Requirement already satisfied: more-itertools in c:\\users\\koheisaito\\appdata\\local\\anaconda3\\lib\\site-packages (from jaraco.classes->keyring<25.0.0,>=24.2.0->promptflow-devkit>=1.17.1->azure-ai-evaluation) (10.3.0)\n",
      "Requirement already satisfied: zipp>=0.5 in c:\\users\\koheisaito\\appdata\\local\\anaconda3\\lib\\site-packages (from importlib-metadata<8.7.0,>=6.0->opentelemetry-api~=1.26->azure-monitor-opentelemetry-exporter<2.0.0,>=1.0.0b21->promptflow-devkit>=1.17.1->azure-ai-evaluation) (3.17.0)\n",
      "Downloading azure_ai_inference-1.0.0b9-py3-none-any.whl (124 kB)\n",
      "Installing collected packages: azure-ai-inference\n",
      "Successfully installed azure-ai-inference-1.0.0b9\n"
     ]
    }
   ],
   "source": [
    "!pip install azure-ai-projects azure-identity azure-ai-evaluation azure-ai-inference"
   ]
  },
  {
   "cell_type": "markdown",
   "id": "c5d302bd",
   "metadata": {},
   "source": [
    "以下の環境変数をセット。\n",
    "\n",
    "- PROJECT_CONNECTION_STRING - The project connection string, as found in the overview page of your Azure AI Foundry project.\n",
    "- MODEL_DEPLOYMENT_NAME - The deployment name of the model for AI-assisted evaluators, as found under the \"Name\" column in the \"Models + endpoints\" tab in your Azure AI Foundry project.\n",
    "- AZURE_OPENAI_ENDPOINT - Azure Open AI Endpoint to be used for evaluation.\n",
    "- AZURE_OPENAI_API_KEY - Azure Open AI Key to be used for evaluation.\n",
    "- AZURE_OPENAI_API_VERSION - Azure Open AI Api version to be used for evaluation.\n",
    "- AZURE_SUBSCRIPTION_ID - Azure Subscription Id of Azure AI Project\n",
    "- PROJECT_NAME - Azure AI Project Name\n",
    "- RESOURCE_GROUP_NAME - Azure AI Project Resource Group Name\n",
    "- AGENT_MODEL_DEPLOYMENT_NAME - The deployment name of the model for your Azure AI agent, as found under the \"Name\" column in the \"Models + endpoints\" tab in your Azure AI Foundry project."
   ]
  },
  {
   "cell_type": "code",
   "execution_count": 1,
   "id": "a5208112",
   "metadata": {},
   "outputs": [
    {
     "data": {
      "text/plain": [
       "True"
      ]
     },
     "execution_count": 1,
     "metadata": {},
     "output_type": "execute_result"
    }
   ],
   "source": [
    "from dotenv import load_dotenv\n",
    "\n",
    "load_dotenv('../agent_evaluation/.env')"
   ]
  },
  {
   "cell_type": "markdown",
   "id": "205c096a",
   "metadata": {},
   "source": [
    "## Initialize Project Client"
   ]
  },
  {
   "cell_type": "code",
   "execution_count": 7,
   "id": "7513a347",
   "metadata": {},
   "outputs": [],
   "source": [
    "import os\n",
    "from azure.ai.projects import AIProjectClient\n",
    "from azure.identity import DefaultAzureCredential\n",
    "from azure.ai.agents.models import FunctionTool, ToolSet, AgentThreadCreationOptions\n",
    "from user_functions import user_functions\n",
    "\n",
    "project_client = AIProjectClient(\n",
    "    credential=DefaultAzureCredential(),\n",
    "    endpoint=os.environ[\"PROJECT_CONNECTION_STRING\"],\n",
    ")\n",
    "\n",
    "AGENT_NAME = \"Seattle Tourist Assistant\"\n",
    "\n",
    "# Add Tools to be used by Agent\n",
    "functions = FunctionTool(user_functions)\n",
    "\n",
    "toolset = ToolSet()\n",
    "toolset.add(functions)"
   ]
  },
  {
   "cell_type": "markdown",
   "id": "6b8d3d9b",
   "metadata": {},
   "source": [
    "### AI Foundry Agent Service の作成"
   ]
  },
  {
   "cell_type": "code",
   "execution_count": 8,
   "id": "c6bd72e8",
   "metadata": {},
   "outputs": [
    {
     "name": "stdout",
     "output_type": "stream",
     "text": [
      "Created agent, agent ID: asst_yTgoigfFAZyzdIBbUTTD0gCu\n"
     ]
    }
   ],
   "source": [
    "agent = project_client.agents.create_agent(\n",
    "    model=os.environ[\"AGENT_MODEL_DEPLOYMENT_NAME\"],\n",
    "    name=AGENT_NAME,\n",
    "    instructions=\"You are helpful agent\",\n",
    "    toolset=toolset,\n",
    ")\n",
    "print(f\"Created agent, agent ID: {agent.id}\")"
   ]
  },
  {
   "cell_type": "markdown",
   "id": "76027c34",
   "metadata": {},
   "source": [
    "### Thread 作成、実行"
   ]
  },
  {
   "cell_type": "code",
   "execution_count": 12,
   "id": "5a318b19",
   "metadata": {},
   "outputs": [
    {
     "name": "stdout",
     "output_type": "stream",
     "text": [
      "Thread run status: RunStatus.COMPLETED\n",
      "Role: MessageRole.AGENT, Content: Seattle is a vibrant city with plenty of attractions and activities for visitors. Here are some great places to explore:\n",
      "\n",
      "### Iconic Attractions:\n",
      "1. **Space Needle**: A must-visit landmark offering panoramic views of the city, Puget Sound, and surrounding mountains.\n",
      "2. **Pike Place Market**: A lively public market famous for fresh produce, handmade goods, and the iconic fish-throwing tradition.\n",
      "3. **Chihuly Garden and Glass**: A stunning exhibit showcasing Dale Chihuly's exquisite glass art installations.\n",
      "4. **Museum of Pop Culture (MoPOP)**: An immersive museum featuring exhibits on music, film, gaming, and pop culture.\n",
      "\n",
      "### Nature and Outdoor Destinations:\n",
      "5. **Discovery Park**: A beautiful park with walking trails, beaches, and views of Puget Sound.\n",
      "6. **Gas Works Park**: A quirky green space with industrial structures and a picturesque city skyline view.\n",
      "7. **Green Lake Park**: Perfect for walking, biking, boating, or simply relaxing by the lake.\n",
      "8. **Washington Park Arboretum**: A peaceful refuge with gardens and trails featuring diverse plant species.\n",
      "\n",
      "### Unique Experiences:\n",
      "9. **Seattle Aquarium**: Explore marine life and learn about the aquatic ecosystems of the Pacific Northwest.\n",
      "10. **Underground Tour**: A fascinating guided tour that uncovers Seattle’s buried streets and the city’s quirky history.\n",
      "11. **Ballard Locks**: Watch boats pass through the locks and see salmon moving up the fish ladder during migration seasons.\n",
      "\n",
      "### Nearby Attractions:\n",
      "12. **Mount Rainier National Park**: A breathtaking getaway for hiking, climbing, or simply admiring the majestic mountain.\n",
      "13. **Fremont Troll**: A quirky sculpture under the Aurora Bridge, perfect for an offbeat photo op.\n",
      "\n",
      "### Neighborhoods to Explore:\n",
      "14. **Capitol Hill**: Known for hip cafés, vibrant nightlife, and charming boutique shops.\n",
      "15. **University District**: Features eclectic shops, galleries, and plenty of budget-friendly restaurants.\n",
      "\n",
      "There’s something for everyone in Seattle, whether you’re interested in nature, art, history, or unique local experiences! Let me know if you’d like opening hours or additional details on any of these places.\n",
      "Role: MessageRole.USER, Content: What are some good places to visit in Seattle?\n"
     ]
    }
   ],
   "source": [
    "thread_run = project_client.agents.create_thread_and_process_run(\n",
    "    agent_id=agent.id,\n",
    "    thread=AgentThreadCreationOptions(\n",
    "        messages=[\n",
    "            {\n",
    "                \"role\": \"user\",\n",
    "                \"content\": \"What are some good places to visit in Seattle?\",\n",
    "            }\n",
    "        ]\n",
    "    )\n",
    ")\n",
    "print(f\"Thread run status: {thread_run.status}\")\n",
    "\n",
    "for message in project_client.agents.messages.list(thread_run.thread_id):\n",
    "    print(f\"Role: {message.role}, Content: {message.content[0].text.value}\")"
   ]
  },
  {
   "cell_type": "markdown",
   "id": "2c1a00c2",
   "metadata": {},
   "source": [
    "### 評価"
   ]
  },
  {
   "cell_type": "code",
   "execution_count": 17,
   "id": "1cdba4cc",
   "metadata": {},
   "outputs": [
    {
     "name": "stdout",
     "output_type": "stream",
     "text": [
      "Single run evaluation data: {'query': [{'role': 'system', 'content': 'You are helpful agent'}, {'createdAt': '2025-06-03T05:47:02Z', 'role': 'user', 'content': [{'type': 'text', 'text': 'What are some good places to visit in Seattle?'}]}], 'response': [{'createdAt': '2025-06-03T05:47:03Z', 'run_id': 'run_ADvtl4IeeUcHJHzFglrhq9EO', 'role': 'assistant', 'content': [{'type': 'text', 'text': \"Seattle is a vibrant city with plenty of attractions and activities for visitors. Here are some great places to explore:\\n\\n### Iconic Attractions:\\n1. **Space Needle**: A must-visit landmark offering panoramic views of the city, Puget Sound, and surrounding mountains.\\n2. **Pike Place Market**: A lively public market famous for fresh produce, handmade goods, and the iconic fish-throwing tradition.\\n3. **Chihuly Garden and Glass**: A stunning exhibit showcasing Dale Chihuly's exquisite glass art installations.\\n4. **Museum of Pop Culture (MoPOP)**: An immersive museum featuring exhibits on music, film, gaming, and pop culture.\\n\\n### Nature and Outdoor Destinations:\\n5. **Discovery Park**: A beautiful park with walking trails, beaches, and views of Puget Sound.\\n6. **Gas Works Park**: A quirky green space with industrial structures and a picturesque city skyline view.\\n7. **Green Lake Park**: Perfect for walking, biking, boating, or simply relaxing by the lake.\\n8. **Washington Park Arboretum**: A peaceful refuge with gardens and trails featuring diverse plant species.\\n\\n### Unique Experiences:\\n9. **Seattle Aquarium**: Explore marine life and learn about the aquatic ecosystems of the Pacific Northwest.\\n10. **Underground Tour**: A fascinating guided tour that uncovers Seattle’s buried streets and the city’s quirky history.\\n11. **Ballard Locks**: Watch boats pass through the locks and see salmon moving up the fish ladder during migration seasons.\\n\\n### Nearby Attractions:\\n12. **Mount Rainier National Park**: A breathtaking getaway for hiking, climbing, or simply admiring the majestic mountain.\\n13. **Fremont Troll**: A quirky sculpture under the Aurora Bridge, perfect for an offbeat photo op.\\n\\n### Neighborhoods to Explore:\\n14. **Capitol Hill**: Known for hip cafés, vibrant nightlife, and charming boutique shops.\\n15. **University District**: Features eclectic shops, galleries, and plenty of budget-friendly restaurants.\\n\\nThere’s something for everyone in Seattle, whether you’re interested in nature, art, history, or unique local experiences! Let me know if you’d like opening hours or additional details on any of these places.\"}]}], 'tool_definitions': [{'name': 'get_user_info', 'type': 'function', 'description': 'Retrieves user information based on user ID.', 'parameters': {'type': 'object', 'properties': {'user_id': {'type': 'integer', 'description': 'ID of the user.'}}}}, {'name': 'convert_temperature', 'type': 'function', 'description': 'Converts temperature from Celsius to Fahrenheit.', 'parameters': {'type': 'object', 'properties': {'celsius': {'type': 'number', 'description': 'Temperature in Celsius.'}}}}, {'name': 'send_email', 'type': 'function', 'description': 'Sends an email with the specified subject and body to the recipient.', 'parameters': {'type': 'object', 'properties': {'recipient': {'type': 'string', 'description': 'Email address of the recipient.'}, 'subject': {'type': 'string', 'description': 'Subject of the email.'}, 'body': {'type': 'string', 'description': 'Body content of the email.'}}}}, {'name': 'fetch_current_datetime', 'type': 'function', 'description': 'Get the current time as a JSON string, optionally formatted.', 'parameters': {'type': 'object', 'properties': {'format': {'type': ['string', 'null'], 'description': 'The format in which to return the current time. Defaults to None, which uses a standard format.'}}}}, {'name': 'longest_word_in_sentences', 'type': 'function', 'description': 'Finds the longest word in each sentence.', 'parameters': {'type': 'object', 'properties': {'sentences': {'type': 'array', 'items': {'type': 'string'}, 'description': 'A list of sentences.'}}}}, {'name': 'toggle_flag', 'type': 'function', 'description': 'Toggles a boolean flag.', 'parameters': {'type': 'object', 'properties': {'flag': {'type': 'boolean', 'description': 'The flag to toggle.'}}}}, {'name': 'fetch_weather', 'type': 'function', 'description': 'Fetches the weather information for the specified location.', 'parameters': {'type': 'object', 'properties': {'location': {'type': 'string', 'description': 'The location to fetch weather for.'}}}}, {'name': 'process_records', 'type': 'function', 'description': 'Process a list of records, where each record is a dictionary with string keys and integer values.', 'parameters': {'type': 'object', 'properties': {'records': {'type': 'array', 'items': {'type': 'object'}, 'description': 'A list containing dictionaries that map strings to integers.'}}}}, {'name': 'merge_dicts', 'type': 'function', 'description': 'Merges two dictionaries.', 'parameters': {'type': 'object', 'properties': {'dict1': {'type': 'object', 'description': 'First dictionary.'}, 'dict2': {'type': 'object', 'description': 'Second dictionary.'}}}}, {'name': 'calculate_sum', 'type': 'function', 'description': 'Calculates the sum of two integers.', 'parameters': {'type': 'object', 'properties': {'a': {'type': 'integer', 'description': 'First integer.'}, 'b': {'type': 'integer', 'description': 'Second integer.'}}}}, {'name': 'opening_hours', 'type': 'function', 'description': 'Fetches the opening hours of a tourist destination in Seattle.', 'parameters': {'type': 'object', 'properties': {'tourist_destination': {'type': 'string', 'description': 'The tourist destination to fetch opening hours for.'}}}}]}\n"
     ]
    }
   ],
   "source": [
    "from azure.ai.evaluation import AIAgentConverter\n",
    "\n",
    "# Initialize the converter that will be backed by the project.\n",
    "converter = AIAgentConverter(project_client)\n",
    "\n",
    "thread_id = thread_run.thread_id\n",
    "run_id = thread_run.id\n",
    "file_name = \"evaluation_data.jsonl\"\n",
    "\n",
    "# Get a single agent run data\n",
    "evaluation_data_single_run = converter.convert(thread_id=thread_id, run_id=run_id)\n",
    "print(f\"Single run evaluation data: {evaluation_data_single_run}\")\n",
    "evaluation_data = converter.prepare_evaluation_data(thread_ids=thread_id, filename=file_name)"
   ]
  },
  {
   "cell_type": "markdown",
   "id": "561ae456",
   "metadata": {},
   "source": [
    "### evaluator のセットアップ"
   ]
  },
  {
   "cell_type": "code",
   "execution_count": 18,
   "id": "cfe2ae3f",
   "metadata": {},
   "outputs": [],
   "source": [
    "from azure.ai.evaluation import (\n",
    "    ToolCallAccuracyEvaluator,\n",
    "    AzureOpenAIModelConfiguration,\n",
    "    IntentResolutionEvaluator,\n",
    "    TaskAdherenceEvaluator,\n",
    ")\n",
    "from pprint import pprint\n",
    "\n",
    "model_config = AzureOpenAIModelConfiguration(\n",
    "    azure_endpoint=os.environ[\"AZURE_OPENAI_ENDPOINT\"],\n",
    "    api_key=os.environ[\"AZURE_OPENAI_API_KEY\"],\n",
    "    api_version=os.environ[\"AZURE_OPENAI_API_VERSION\"],\n",
    "    azure_deployment=os.environ[\"AGENT_MODEL_DEPLOYMENT_NAME\"],\n",
    ")\n",
    "# Needed to use content safety evaluators\n",
    "azure_ai_project = {\n",
    "    \"subscription_id\": os.environ[\"AZURE_SUBSCRIPTION_ID\"],\n",
    "    \"project_name\": os.environ[\"PROJECT_NAME\"],\n",
    "    \"resource_group_name\": os.environ[\"RESOURCE_GROUP_NAME\"],\n",
    "}\n",
    "\n",
    "intent_resolution = IntentResolutionEvaluator(model_config=model_config)\n",
    "\n",
    "tool_call_accuracy = ToolCallAccuracyEvaluator(model_config=model_config)\n",
    "\n",
    "task_adherence = TaskAdherenceEvaluator(model_config=model_config)"
   ]
  },
  {
   "cell_type": "code",
   "execution_count": 19,
   "id": "63db4b4a",
   "metadata": {},
   "outputs": [
    {
     "name": "stderr",
     "output_type": "stream",
     "text": [
      "[2025-06-03 15:01:14 +0900][promptflow._core.entry_meta_generator][WARNING] - Generate meta in current process and timeout won't take effect. Please handle timeout manually outside current process.\n",
      "[2025-06-03 15:01:14 +0900][promptflow._core.entry_meta_generator][WARNING] - Generate meta in current process and timeout won't take effect. Please handle timeout manually outside current process.\n",
      "[2025-06-03 15:01:14 +0900][promptflow._core.entry_meta_generator][WARNING] - Generate meta in current process and timeout won't take effect. Please handle timeout manually outside current process.\n",
      "[2025-06-03 15:01:14 +0900][promptflow._sdk._orchestrator.run_submitter][INFO] - Submitting run azure_ai_evaluation_evaluators_intent_resolution_20250603_150113_397455, log path: C:\\Users\\koheisaito\\.promptflow\\.runs\\azure_ai_evaluation_evaluators_intent_resolution_20250603_150113_397455\\logs.txt\n",
      "[2025-06-03 15:01:14 +0900][promptflow._sdk._orchestrator.run_submitter][INFO] - Submitting run azure_ai_evaluation_evaluators_task_adherence_20250603_150113_398454, log path: C:\\Users\\koheisaito\\.promptflow\\.runs\\azure_ai_evaluation_evaluators_task_adherence_20250603_150113_398454\\logs.txt\n",
      "[2025-06-03 15:01:14 +0900][promptflow._sdk._orchestrator.run_submitter][INFO] - Submitting run azure_ai_evaluation_evaluators_tool_call_accuracy_20250603_150113_396454, log path: C:\\Users\\koheisaito\\.promptflow\\.runs\\azure_ai_evaluation_evaluators_tool_call_accuracy_20250603_150113_396454\\logs.txt\n",
      "[2025-06-03 15:01:15 +0900][promptflow._sdk._orchestrator.run_submitter][WARNING] - 1 out of 1 runs failed in batch run.\n",
      " Please check out C:/Users/koheisaito/.promptflow/.runs/azure_ai_evaluation_evaluators_tool_call_accuracy_20250603_150113_396454 for more details.\n"
     ]
    },
    {
     "name": "stdout",
     "output_type": "stream",
     "text": [
      "2025-06-03 15:01:14 +0900   31560 execution.bulk     INFO     Current thread is not main thread, skip signal handler registration in BatchEngine.\n",
      "2025-06-03 15:01:14 +0900   31560 execution.bulk     INFO     Finished 1 / 1 lines.\n",
      "2025-06-03 15:01:14 +0900   31560 execution.bulk     INFO     Average execution time for completed lines: 0.07 seconds. Estimated time for incomplete lines: 0.0 seconds.\n",
      "2025-06-03 15:01:14 +0900   31560 execution          ERROR    1/1 flow run failed, indexes: [0], exception of index 0: (UserError) response does not have tool calls. Either provide tool_calls or response with tool calls.\n",
      "======= Run Summary =======\n",
      "\n",
      "Run name: \"azure_ai_evaluation_evaluators_tool_call_accuracy_20250603_150113_396454\"\n",
      "Run status: \"Completed\"\n",
      "Start time: \"2025-06-03 15:01:13.428011+09:00\"\n",
      "Duration: \"0:00:02.234097\"\n",
      "Output path: \"C:\\Users\\koheisaito\\.promptflow\\.runs\\azure_ai_evaluation_evaluators_tool_call_accuracy_20250603_150113_396454\"\n",
      "\n",
      "2025-06-03 15:01:18 +0900   31560 execution.bulk     INFO     Finished 1 / 1 lines.\n",
      "2025-06-03 15:01:18 +0900   31560 execution.bulk     INFO     Average execution time for completed lines: 3.61 seconds. Estimated time for incomplete lines: 0.0 seconds.\n",
      "2025-06-03 15:01:18 +0900   31560 execution.bulk     INFO     Finished 1 / 1 lines.\n",
      "2025-06-03 15:01:18 +0900   31560 execution.bulk     INFO     Average execution time for completed lines: 3.71 seconds. Estimated time for incomplete lines: 0.0 seconds.\n",
      "2025-06-03 15:01:14 +0900   31560 execution.bulk     INFO     Current thread is not main thread, skip signal handler registration in BatchEngine.\n",
      "2025-06-03 15:01:18 +0900   31560 execution.bulk     INFO     Finished 1 / 1 lines.\n",
      "2025-06-03 15:01:18 +0900   31560 execution.bulk     INFO     Average execution time for completed lines: 3.71 seconds. Estimated time for incomplete lines: 0.0 seconds.\n",
      "======= Run Summary =======\n",
      "\n",
      "Run name: \"azure_ai_evaluation_evaluators_intent_resolution_20250603_150113_397455\"\n",
      "Run status: \"Completed\"\n",
      "Start time: \"2025-06-03 15:01:13.428011+09:00\"\n",
      "Duration: \"0:00:05.236476\"\n",
      "Output path: \"C:\\Users\\koheisaito\\.promptflow\\.runs\\azure_ai_evaluation_evaluators_intent_resolution_20250603_150113_397455\"\n",
      "\n",
      "2025-06-03 15:01:14 +0900   31560 execution.bulk     INFO     Current thread is not main thread, skip signal handler registration in BatchEngine.\n",
      "2025-06-03 15:01:18 +0900   31560 execution.bulk     INFO     Finished 1 / 1 lines.\n",
      "2025-06-03 15:01:18 +0900   31560 execution.bulk     INFO     Average execution time for completed lines: 3.61 seconds. Estimated time for incomplete lines: 0.0 seconds.\n",
      "======= Run Summary =======\n",
      "\n",
      "Run name: \"azure_ai_evaluation_evaluators_task_adherence_20250603_150113_398454\"\n",
      "Run status: \"Completed\"\n",
      "Start time: \"2025-06-03 15:01:13.428011+09:00\"\n",
      "Duration: \"0:00:05.302813\"\n",
      "Output path: \"C:\\Users\\koheisaito\\.promptflow\\.runs\\azure_ai_evaluation_evaluators_task_adherence_20250603_150113_398454\"\n",
      "\n",
      "======= Combined Run Summary (Per Evaluator) =======\n",
      "\n",
      "{\n",
      "    \"tool_call_accuracy\": {\n",
      "        \"status\": \"Completed with Errors\",\n",
      "        \"duration\": \"0:00:02.234097\",\n",
      "        \"completed_lines\": 0,\n",
      "        \"failed_lines\": 1,\n",
      "        \"log_path\": \"C:\\\\Users\\\\koheisaito\\\\.promptflow\\\\.runs\\\\azure_ai_evaluation_evaluators_tool_call_accuracy_20250603_150113_396454\"\n",
      "    },\n",
      "    \"intent_resolution\": {\n",
      "        \"status\": \"Completed\",\n",
      "        \"duration\": \"0:00:05.236476\",\n",
      "        \"completed_lines\": 1,\n",
      "        \"failed_lines\": 0,\n",
      "        \"log_path\": \"C:\\\\Users\\\\koheisaito\\\\.promptflow\\\\.runs\\\\azure_ai_evaluation_evaluators_intent_resolution_20250603_150113_397455\"\n",
      "    },\n",
      "    \"task_adherence\": {\n",
      "        \"status\": \"Completed\",\n",
      "        \"duration\": \"0:00:05.302813\",\n",
      "        \"completed_lines\": 1,\n",
      "        \"failed_lines\": 0,\n",
      "        \"log_path\": \"C:\\\\Users\\\\koheisaito\\\\.promptflow\\\\.runs\\\\azure_ai_evaluation_evaluators_task_adherence_20250603_150113_398454\"\n",
      "    }\n",
      "}\n",
      "\n",
      "====================================================\n",
      "\n"
     ]
    },
    {
     "ename": "EvaluationException",
     "evalue": "(InternalError) The get 'prj-build2025-demo-eastus2-001' workspace request failed with HTTP 404 - (ResourceNotFound) The Resource 'Microsoft.MachineLearningServices/workspaces/prj-build2025-demo-eastus2-001' under resource group 'rg-build2025-demo-eastus-001' was not found. For more details please go to https://aka.ms/ARMResourceNotFoundFix",
     "output_type": "error",
     "traceback": [
      "\u001b[1;31m---------------------------------------------------------------------------\u001b[0m",
      "\u001b[1;31mEvaluationException\u001b[0m                       Traceback (most recent call last)",
      "Cell \u001b[1;32mIn[19], line 3\u001b[0m\n\u001b[0;32m      1\u001b[0m \u001b[38;5;28;01mfrom\u001b[39;00m \u001b[38;5;21;01mazure\u001b[39;00m\u001b[38;5;21;01m.\u001b[39;00m\u001b[38;5;21;01mai\u001b[39;00m\u001b[38;5;21;01m.\u001b[39;00m\u001b[38;5;21;01mevaluation\u001b[39;00m \u001b[38;5;28;01mimport\u001b[39;00m evaluate\n\u001b[1;32m----> 3\u001b[0m response \u001b[38;5;241m=\u001b[39m evaluate(\n\u001b[0;32m      4\u001b[0m     data\u001b[38;5;241m=\u001b[39mfile_name,\n\u001b[0;32m      5\u001b[0m     evaluators\u001b[38;5;241m=\u001b[39m{\n\u001b[0;32m      6\u001b[0m         \u001b[38;5;124m\"\u001b[39m\u001b[38;5;124mtool_call_accuracy\u001b[39m\u001b[38;5;124m\"\u001b[39m: tool_call_accuracy,\n\u001b[0;32m      7\u001b[0m         \u001b[38;5;124m\"\u001b[39m\u001b[38;5;124mintent_resolution\u001b[39m\u001b[38;5;124m\"\u001b[39m: intent_resolution,\n\u001b[0;32m      8\u001b[0m         \u001b[38;5;124m\"\u001b[39m\u001b[38;5;124mtask_adherence\u001b[39m\u001b[38;5;124m\"\u001b[39m: task_adherence,\n\u001b[0;32m      9\u001b[0m     },\n\u001b[0;32m     10\u001b[0m     azure_ai_project\u001b[38;5;241m=\u001b[39m{\n\u001b[0;32m     11\u001b[0m         \u001b[38;5;124m\"\u001b[39m\u001b[38;5;124msubscription_id\u001b[39m\u001b[38;5;124m\"\u001b[39m: os\u001b[38;5;241m.\u001b[39menviron[\u001b[38;5;124m\"\u001b[39m\u001b[38;5;124mAZURE_SUBSCRIPTION_ID\u001b[39m\u001b[38;5;124m\"\u001b[39m],\n\u001b[0;32m     12\u001b[0m         \u001b[38;5;124m\"\u001b[39m\u001b[38;5;124mproject_name\u001b[39m\u001b[38;5;124m\"\u001b[39m: os\u001b[38;5;241m.\u001b[39menviron[\u001b[38;5;124m\"\u001b[39m\u001b[38;5;124mPROJECT_NAME\u001b[39m\u001b[38;5;124m\"\u001b[39m],\n\u001b[0;32m     13\u001b[0m         \u001b[38;5;124m\"\u001b[39m\u001b[38;5;124mresource_group_name\u001b[39m\u001b[38;5;124m\"\u001b[39m: os\u001b[38;5;241m.\u001b[39menviron[\u001b[38;5;124m\"\u001b[39m\u001b[38;5;124mRESOURCE_GROUP_NAME\u001b[39m\u001b[38;5;124m\"\u001b[39m],\n\u001b[0;32m     14\u001b[0m     },\n\u001b[0;32m     15\u001b[0m )\n\u001b[0;32m     16\u001b[0m pprint(\u001b[38;5;124mf\u001b[39m\u001b[38;5;124m'\u001b[39m\u001b[38;5;124mAI Foundary URL: \u001b[39m\u001b[38;5;132;01m{\u001b[39;00mresponse\u001b[38;5;241m.\u001b[39mget(\u001b[38;5;124m\"\u001b[39m\u001b[38;5;124mstudio_url\u001b[39m\u001b[38;5;124m\"\u001b[39m)\u001b[38;5;132;01m}\u001b[39;00m\u001b[38;5;124m'\u001b[39m)\n",
      "File \u001b[1;32mc:\\Users\\koheisaito\\AppData\\Local\\anaconda3\\Lib\\site-packages\\azure\\ai\\evaluation\\_evaluate\\_evaluate.py:796\u001b[0m, in \u001b[0;36mevaluate\u001b[1;34m(data, evaluators, evaluation_name, target, evaluator_config, azure_ai_project, output_path, fail_on_evaluator_errors, **kwargs)\u001b[0m\n\u001b[0;32m    788\u001b[0m \u001b[38;5;28;01mif\u001b[39;00m \u001b[38;5;129;01mnot\u001b[39;00m \u001b[38;5;28misinstance\u001b[39m(e, EvaluationException):\n\u001b[0;32m    789\u001b[0m     \u001b[38;5;28;01mraise\u001b[39;00m EvaluationException(\n\u001b[0;32m    790\u001b[0m         message\u001b[38;5;241m=\u001b[39m\u001b[38;5;28mstr\u001b[39m(e),\n\u001b[0;32m    791\u001b[0m         target\u001b[38;5;241m=\u001b[39mErrorTarget\u001b[38;5;241m.\u001b[39mEVALUATE,\n\u001b[0;32m    792\u001b[0m         category\u001b[38;5;241m=\u001b[39mErrorCategory\u001b[38;5;241m.\u001b[39mFAILED_EXECUTION,\n\u001b[0;32m    793\u001b[0m         blame\u001b[38;5;241m=\u001b[39mErrorBlame\u001b[38;5;241m.\u001b[39mSYSTEM_ERROR,\n\u001b[0;32m    794\u001b[0m     ) \u001b[38;5;28;01mfrom\u001b[39;00m \u001b[38;5;21;01me\u001b[39;00m\n\u001b[1;32m--> 796\u001b[0m \u001b[38;5;28;01mraise\u001b[39;00m e\n",
      "File \u001b[1;32mc:\\Users\\koheisaito\\AppData\\Local\\anaconda3\\Lib\\site-packages\\azure\\ai\\evaluation\\_evaluate\\_evaluate.py:754\u001b[0m, in \u001b[0;36mevaluate\u001b[1;34m(data, evaluators, evaluation_name, target, evaluator_config, azure_ai_project, output_path, fail_on_evaluator_errors, **kwargs)\u001b[0m\n\u001b[0;32m    702\u001b[0m \u001b[38;5;250m\u001b[39m\u001b[38;5;124;03m\"\"\"Evaluates target or data with built-in or custom evaluators. If both target and data are provided,\u001b[39;00m\n\u001b[0;32m    703\u001b[0m \u001b[38;5;124;03m    data will be run through target function and then results will be evaluated.\u001b[39;00m\n\u001b[0;32m    704\u001b[0m \n\u001b[1;32m   (...)\u001b[0m\n\u001b[0;32m    751\u001b[0m \u001b[38;5;124;03m            https://{resource_name}.services.ai.azure.com/api/projects/{project_name}\u001b[39;00m\n\u001b[0;32m    752\u001b[0m \u001b[38;5;124;03m\"\"\"\u001b[39;00m\n\u001b[0;32m    753\u001b[0m \u001b[38;5;28;01mtry\u001b[39;00m:\n\u001b[1;32m--> 754\u001b[0m     \u001b[38;5;28;01mreturn\u001b[39;00m _evaluate(\n\u001b[0;32m    755\u001b[0m         evaluation_name\u001b[38;5;241m=\u001b[39mevaluation_name,\n\u001b[0;32m    756\u001b[0m         target\u001b[38;5;241m=\u001b[39mtarget,\n\u001b[0;32m    757\u001b[0m         data\u001b[38;5;241m=\u001b[39mdata,\n\u001b[0;32m    758\u001b[0m         evaluators_and_graders\u001b[38;5;241m=\u001b[39mevaluators,\n\u001b[0;32m    759\u001b[0m         evaluator_config\u001b[38;5;241m=\u001b[39mevaluator_config,\n\u001b[0;32m    760\u001b[0m         azure_ai_project\u001b[38;5;241m=\u001b[39mazure_ai_project,\n\u001b[0;32m    761\u001b[0m         output_path\u001b[38;5;241m=\u001b[39moutput_path,\n\u001b[0;32m    762\u001b[0m         fail_on_evaluator_errors\u001b[38;5;241m=\u001b[39mfail_on_evaluator_errors,\n\u001b[0;32m    763\u001b[0m         \u001b[38;5;241m*\u001b[39m\u001b[38;5;241m*\u001b[39mkwargs,\n\u001b[0;32m    764\u001b[0m     )\n\u001b[0;32m    765\u001b[0m \u001b[38;5;28;01mexcept\u001b[39;00m \u001b[38;5;167;01mException\u001b[39;00m \u001b[38;5;28;01mas\u001b[39;00m e:\n\u001b[0;32m    766\u001b[0m     \u001b[38;5;66;03m# Handle multiprocess bootstrap error\u001b[39;00m\n\u001b[0;32m    767\u001b[0m     bootstrap_error \u001b[38;5;241m=\u001b[39m (\n\u001b[0;32m    768\u001b[0m         \u001b[38;5;124m\"\u001b[39m\u001b[38;5;124mAn attempt has been made to start a new process before the\u001b[39m\u001b[38;5;130;01m\\n\u001b[39;00m\u001b[38;5;124m        \u001b[39m\u001b[38;5;124m\"\u001b[39m\n\u001b[0;32m    769\u001b[0m         \u001b[38;5;124m\"\u001b[39m\u001b[38;5;124mcurrent process has finished its bootstrapping phase.\u001b[39m\u001b[38;5;124m\"\u001b[39m\n\u001b[0;32m    770\u001b[0m     )\n",
      "File \u001b[1;32mc:\\Users\\koheisaito\\AppData\\Local\\anaconda3\\Lib\\site-packages\\azure\\ai\\evaluation\\_evaluate\\_evaluate.py:936\u001b[0m, in \u001b[0;36m_evaluate\u001b[1;34m(evaluators_and_graders, evaluation_name, target, data, evaluator_config, azure_ai_project, output_path, fail_on_evaluator_errors, **kwargs)\u001b[0m\n\u001b[0;32m    934\u001b[0m     studio_url \u001b[38;5;241m=\u001b[39m \u001b[38;5;28;01mNone\u001b[39;00m\n\u001b[0;32m    935\u001b[0m     \u001b[38;5;28;01mif\u001b[39;00m trace_destination:\n\u001b[1;32m--> 936\u001b[0m         studio_url \u001b[38;5;241m=\u001b[39m _log_metrics_and_instance_results(\n\u001b[0;32m    937\u001b[0m             metrics, results_df, trace_destination, \u001b[38;5;28;01mNone\u001b[39;00m, evaluation_name, name_map, \u001b[38;5;241m*\u001b[39m\u001b[38;5;241m*\u001b[39mkwargs\n\u001b[0;32m    938\u001b[0m         )\n\u001b[0;32m    940\u001b[0m result_df_dict \u001b[38;5;241m=\u001b[39m results_df\u001b[38;5;241m.\u001b[39mto_dict(\u001b[38;5;124m\"\u001b[39m\u001b[38;5;124mrecords\u001b[39m\u001b[38;5;124m\"\u001b[39m)\n\u001b[0;32m    941\u001b[0m result: EvaluationResult \u001b[38;5;241m=\u001b[39m {\u001b[38;5;124m\"\u001b[39m\u001b[38;5;124mrows\u001b[39m\u001b[38;5;124m\"\u001b[39m: result_df_dict, \u001b[38;5;124m\"\u001b[39m\u001b[38;5;124mmetrics\u001b[39m\u001b[38;5;124m\"\u001b[39m: metrics, \u001b[38;5;124m\"\u001b[39m\u001b[38;5;124mstudio_url\u001b[39m\u001b[38;5;124m\"\u001b[39m: studio_url}  \u001b[38;5;66;03m# type: ignore\u001b[39;00m\n",
      "File \u001b[1;32mc:\\Users\\koheisaito\\AppData\\Local\\anaconda3\\Lib\\site-packages\\azure\\ai\\evaluation\\_evaluate\\_utils.py:230\u001b[0m, in \u001b[0;36m_log_metrics_and_instance_results\u001b[1;34m(metrics, instance_results, trace_destination, run, evaluation_name, name_map, **kwargs)\u001b[0m\n\u001b[0;32m    222\u001b[0m ws_triad \u001b[38;5;241m=\u001b[39m extract_workspace_triad_from_trace_provider(trace_destination)\n\u001b[0;32m    223\u001b[0m management_client \u001b[38;5;241m=\u001b[39m LiteMLClient(\n\u001b[0;32m    224\u001b[0m     subscription_id\u001b[38;5;241m=\u001b[39mws_triad\u001b[38;5;241m.\u001b[39msubscription_id,\n\u001b[0;32m    225\u001b[0m     resource_group\u001b[38;5;241m=\u001b[39mws_triad\u001b[38;5;241m.\u001b[39mresource_group_name,\n\u001b[1;32m   (...)\u001b[0m\n\u001b[0;32m    228\u001b[0m     \u001b[38;5;66;03m# let the client automatically determine the credentials to use\u001b[39;00m\n\u001b[0;32m    229\u001b[0m )\n\u001b[1;32m--> 230\u001b[0m tracking_uri \u001b[38;5;241m=\u001b[39m management_client\u001b[38;5;241m.\u001b[39mworkspace_get_info(ws_triad\u001b[38;5;241m.\u001b[39mworkspace_name)\u001b[38;5;241m.\u001b[39mml_flow_tracking_uri\n\u001b[0;32m    232\u001b[0m \u001b[38;5;66;03m# Adding line_number as index column this is needed by UI to form link to individual instance run\u001b[39;00m\n\u001b[0;32m    233\u001b[0m instance_results[\u001b[38;5;124m\"\u001b[39m\u001b[38;5;124mline_number\u001b[39m\u001b[38;5;124m\"\u001b[39m] \u001b[38;5;241m=\u001b[39m instance_results\u001b[38;5;241m.\u001b[39mindex\u001b[38;5;241m.\u001b[39mvalues\n",
      "File \u001b[1;32mc:\\Users\\koheisaito\\AppData\\Local\\anaconda3\\Lib\\site-packages\\azure\\ai\\evaluation\\_azure\\_clients.py:159\u001b[0m, in \u001b[0;36mLiteMLClient.workspace_get_info\u001b[1;34m(self, workspace_name)\u001b[0m\n\u001b[0;32m    150\u001b[0m \u001b[38;5;28;01mdef\u001b[39;00m \u001b[38;5;21mworkspace_get_info\u001b[39m(\u001b[38;5;28mself\u001b[39m, workspace_name: \u001b[38;5;28mstr\u001b[39m) \u001b[38;5;241m-\u001b[39m\u001b[38;5;241m>\u001b[39m Workspace:\n\u001b[0;32m    151\u001b[0m     \u001b[38;5;66;03m# https://learn.microsoft.com/rest/api/azureml/workspaces/get?view=rest-azureml-2024-10-01\u001b[39;00m\n\u001b[0;32m    152\u001b[0m     workspace_response \u001b[38;5;241m=\u001b[39m \u001b[38;5;28mself\u001b[39m\u001b[38;5;241m.\u001b[39m_http_client\u001b[38;5;241m.\u001b[39mrequest(\n\u001b[0;32m    153\u001b[0m         \u001b[38;5;124m\"\u001b[39m\u001b[38;5;124mGET\u001b[39m\u001b[38;5;124m\"\u001b[39m,\n\u001b[0;32m    154\u001b[0m         \u001b[38;5;28mself\u001b[39m\u001b[38;5;241m.\u001b[39m_generate_path(\u001b[38;5;241m*\u001b[39mPATH_ML_WORKSPACES, workspace_name),\n\u001b[0;32m    155\u001b[0m         params\u001b[38;5;241m=\u001b[39m{QUERY_KEY_API_VERSION: \u001b[38;5;28mself\u001b[39m\u001b[38;5;241m.\u001b[39m_api_version},\n\u001b[0;32m    156\u001b[0m         headers\u001b[38;5;241m=\u001b[39m\u001b[38;5;28mself\u001b[39m\u001b[38;5;241m.\u001b[39m_get_headers(),\n\u001b[0;32m    157\u001b[0m     )\n\u001b[1;32m--> 159\u001b[0m     \u001b[38;5;28mself\u001b[39m\u001b[38;5;241m.\u001b[39m_throw_on_http_error(workspace_response, \u001b[38;5;124mf\u001b[39m\u001b[38;5;124m\"\u001b[39m\u001b[38;5;124mget \u001b[39m\u001b[38;5;124m'\u001b[39m\u001b[38;5;132;01m{\u001b[39;00mworkspace_name\u001b[38;5;132;01m}\u001b[39;00m\u001b[38;5;124m'\u001b[39m\u001b[38;5;124m workspace\u001b[39m\u001b[38;5;124m\"\u001b[39m)\n\u001b[0;32m    160\u001b[0m     workspace \u001b[38;5;241m=\u001b[39m Workspace\u001b[38;5;241m.\u001b[39mdeserialize(workspace_response)\n\u001b[0;32m    161\u001b[0m     \u001b[38;5;28;01mreturn\u001b[39;00m workspace\n",
      "File \u001b[1;32mc:\\Users\\koheisaito\\AppData\\Local\\anaconda3\\Lib\\site-packages\\azure\\ai\\evaluation\\_azure\\_clients.py:191\u001b[0m, in \u001b[0;36mLiteMLClient._throw_on_http_error\u001b[1;34m(response, description, valid_status)\u001b[0m\n\u001b[0;32m    188\u001b[0m \u001b[38;5;28;01mexcept\u001b[39;00m (JSONDecodeError, \u001b[38;5;167;01mValueError\u001b[39;00m, \u001b[38;5;167;01mKeyError\u001b[39;00m):\n\u001b[0;32m    189\u001b[0m     \u001b[38;5;28;01mpass\u001b[39;00m\n\u001b[1;32m--> 191\u001b[0m \u001b[38;5;28;01mraise\u001b[39;00m EvaluationException(\n\u001b[0;32m    192\u001b[0m     message\u001b[38;5;241m=\u001b[39mmessage,\n\u001b[0;32m    193\u001b[0m     target\u001b[38;5;241m=\u001b[39mErrorTarget\u001b[38;5;241m.\u001b[39mEVALUATE,\n\u001b[0;32m    194\u001b[0m     category\u001b[38;5;241m=\u001b[39mErrorCategory\u001b[38;5;241m.\u001b[39mFAILED_EXECUTION,\n\u001b[0;32m    195\u001b[0m     blame\u001b[38;5;241m=\u001b[39mErrorBlame\u001b[38;5;241m.\u001b[39mSYSTEM_ERROR,\n\u001b[0;32m    196\u001b[0m )\n",
      "\u001b[1;31mEvaluationException\u001b[0m: (InternalError) The get 'prj-build2025-demo-eastus2-001' workspace request failed with HTTP 404 - (ResourceNotFound) The Resource 'Microsoft.MachineLearningServices/workspaces/prj-build2025-demo-eastus2-001' under resource group 'rg-build2025-demo-eastus-001' was not found. For more details please go to https://aka.ms/ARMResourceNotFoundFix"
     ]
    }
   ],
   "source": [
    "from azure.ai.evaluation import evaluate\n",
    "\n",
    "response = evaluate(\n",
    "    data=file_name,\n",
    "    evaluators={\n",
    "        \"tool_call_accuracy\": tool_call_accuracy,\n",
    "        \"intent_resolution\": intent_resolution,\n",
    "        \"task_adherence\": task_adherence,\n",
    "    },\n",
    "    azure_ai_project={\n",
    "        \"subscription_id\": os.environ[\"AZURE_SUBSCRIPTION_ID\"],\n",
    "        \"project_name\": os.environ[\"PROJECT_NAME\"],\n",
    "        \"resource_group_name\": os.environ[\"RESOURCE_GROUP_NAME\"],\n",
    "    },\n",
    ")\n",
    "pprint(f'AI Foundary URL: {response.get(\"studio_url\")}')"
   ]
  },
  {
   "cell_type": "code",
   "execution_count": null,
   "id": "d780d36b",
   "metadata": {},
   "outputs": [
    {
     "ename": "DeserializationError",
     "evalue": "",
     "output_type": "error",
     "traceback": [
      "\u001b[1;31m---------------------------------------------------------------------------\u001b[0m",
      "\u001b[1;31mAttributeError\u001b[0m                            Traceback (most recent call last)",
      "File \u001b[1;32mc:\\Users\\koheisaito\\AppData\\Local\\anaconda3\\Lib\\site-packages\\azure\\ai\\projects\\_utils\\model_base.py:920\u001b[0m, in \u001b[0;36m_deserialize_with_callable\u001b[1;34m(deserializer, value)\u001b[0m\n\u001b[0;32m    919\u001b[0m         \u001b[38;5;28;01mreturn\u001b[39;00m deserializer\u001b[38;5;241m.\u001b[39m_deserialize(value, [])\n\u001b[1;32m--> 920\u001b[0m     \u001b[38;5;28;01mreturn\u001b[39;00m typing\u001b[38;5;241m.\u001b[39mcast(typing\u001b[38;5;241m.\u001b[39mCallable[[typing\u001b[38;5;241m.\u001b[39mAny], typing\u001b[38;5;241m.\u001b[39mAny], deserializer)(value)\n\u001b[0;32m    921\u001b[0m \u001b[38;5;28;01mexcept\u001b[39;00m \u001b[38;5;167;01mException\u001b[39;00m \u001b[38;5;28;01mas\u001b[39;00m e:\n",
      "File \u001b[1;32mc:\\Users\\koheisaito\\AppData\\Local\\anaconda3\\Lib\\site-packages\\azure\\ai\\projects\\_utils\\model_base.py:749\u001b[0m, in \u001b[0;36m_deserialize_dict\u001b[1;34m(value_deserializer, module, obj)\u001b[0m\n\u001b[0;32m    748\u001b[0m     obj \u001b[38;5;241m=\u001b[39m {child\u001b[38;5;241m.\u001b[39mtag: child \u001b[38;5;28;01mfor\u001b[39;00m child \u001b[38;5;129;01min\u001b[39;00m obj}\n\u001b[1;32m--> 749\u001b[0m \u001b[38;5;28;01mreturn\u001b[39;00m {k: _deserialize(value_deserializer, v, module) \u001b[38;5;28;01mfor\u001b[39;00m k, v \u001b[38;5;129;01min\u001b[39;00m obj\u001b[38;5;241m.\u001b[39mitems()}\n",
      "\u001b[1;31mAttributeError\u001b[0m: 'list' object has no attribute 'items'",
      "\nThe above exception was the direct cause of the following exception:\n",
      "\u001b[1;31mDeserializationError\u001b[0m                      Traceback (most recent call last)",
      "Cell \u001b[1;32mIn[22], line 5\u001b[0m\n\u001b[0;32m      1\u001b[0m \u001b[38;5;28;01mfrom\u001b[39;00m \u001b[38;5;21;01mazure\u001b[39;00m\u001b[38;5;21;01m.\u001b[39;00m\u001b[38;5;21;01mai\u001b[39;00m\u001b[38;5;21;01m.\u001b[39;00m\u001b[38;5;21;01mprojects\u001b[39;00m\u001b[38;5;21;01m.\u001b[39;00m\u001b[38;5;21;01mmodels\u001b[39;00m \u001b[38;5;28;01mimport\u001b[39;00m AgentEvaluation, AgentEvaluationRequest\n\u001b[0;32m      4\u001b[0m eval_job: AgentEvaluation \u001b[38;5;241m=\u001b[39m project_client\u001b[38;5;241m.\u001b[39mevaluations\u001b[38;5;241m.\u001b[39mcreate_agent_evaluation(\n\u001b[1;32m----> 5\u001b[0m     evaluation\u001b[38;5;241m=\u001b[39mAgentEvaluationRequest(\n\u001b[0;32m      6\u001b[0m         evaluators\u001b[38;5;241m=\u001b[39m[\u001b[38;5;124m\"\u001b[39m\u001b[38;5;124mFluency\u001b[39m\u001b[38;5;124m\"\u001b[39m, \u001b[38;5;124m\"\u001b[39m\u001b[38;5;124mGroundedness\u001b[39m\u001b[38;5;124m\"\u001b[39m],\n\u001b[0;32m      7\u001b[0m         run_id\u001b[38;5;241m=\u001b[39mrun_id\n\u001b[0;32m      8\u001b[0m     )\n\u001b[0;32m      9\u001b[0m )\n\u001b[0;32m     10\u001b[0m \u001b[38;5;28mprint\u001b[39m(\u001b[38;5;124mf\u001b[39m\u001b[38;5;124m\"\u001b[39m\u001b[38;5;124mEvaluation job created with ID: \u001b[39m\u001b[38;5;132;01m{\u001b[39;00meval_job\u001b[38;5;241m.\u001b[39mid\u001b[38;5;132;01m}\u001b[39;00m\u001b[38;5;124m\"\u001b[39m)\n",
      "File \u001b[1;32mc:\\Users\\koheisaito\\AppData\\Local\\anaconda3\\Lib\\site-packages\\azure\\ai\\projects\\models\\_models.py:159\u001b[0m, in \u001b[0;36mAgentEvaluationRequest.__init__\u001b[1;34m(self, *args, **kwargs)\u001b[0m\n\u001b[0;32m    158\u001b[0m \u001b[38;5;28;01mdef\u001b[39;00m \u001b[38;5;21m__init__\u001b[39m(\u001b[38;5;28mself\u001b[39m, \u001b[38;5;241m*\u001b[39margs: Any, \u001b[38;5;241m*\u001b[39m\u001b[38;5;241m*\u001b[39mkwargs: Any) \u001b[38;5;241m-\u001b[39m\u001b[38;5;241m>\u001b[39m \u001b[38;5;28;01mNone\u001b[39;00m:\n\u001b[1;32m--> 159\u001b[0m     \u001b[38;5;28msuper\u001b[39m()\u001b[38;5;241m.\u001b[39m\u001b[38;5;21m__init__\u001b[39m(\u001b[38;5;241m*\u001b[39margs, \u001b[38;5;241m*\u001b[39m\u001b[38;5;241m*\u001b[39mkwargs)\n",
      "File \u001b[1;32mc:\\Users\\koheisaito\\AppData\\Local\\anaconda3\\Lib\\site-packages\\azure\\ai\\projects\\_utils\\model_base.py:611\u001b[0m, in \u001b[0;36mModel.__init__\u001b[1;34m(self, *args, **kwargs)\u001b[0m\n\u001b[0;32m    606\u001b[0m     \u001b[38;5;28;01mif\u001b[39;00m non_attr_kwargs:\n\u001b[0;32m    607\u001b[0m         \u001b[38;5;66;03m# actual type errors only throw the first wrong keyword arg they see, so following that.\u001b[39;00m\n\u001b[0;32m    608\u001b[0m         \u001b[38;5;28;01mraise\u001b[39;00m \u001b[38;5;167;01mTypeError\u001b[39;00m(\u001b[38;5;124mf\u001b[39m\u001b[38;5;124m\"\u001b[39m\u001b[38;5;132;01m{\u001b[39;00mclass_name\u001b[38;5;132;01m}\u001b[39;00m\u001b[38;5;124m.__init__() got an unexpected keyword argument \u001b[39m\u001b[38;5;124m'\u001b[39m\u001b[38;5;132;01m{\u001b[39;00mnon_attr_kwargs[\u001b[38;5;241m0\u001b[39m]\u001b[38;5;132;01m}\u001b[39;00m\u001b[38;5;124m'\u001b[39m\u001b[38;5;124m\"\u001b[39m)\n\u001b[0;32m    609\u001b[0m     dict_to_pass\u001b[38;5;241m.\u001b[39mupdate(\n\u001b[0;32m    610\u001b[0m         {\n\u001b[1;32m--> 611\u001b[0m             \u001b[38;5;28mself\u001b[39m\u001b[38;5;241m.\u001b[39m_attr_to_rest_field[k]\u001b[38;5;241m.\u001b[39m_rest_name: _create_value(\u001b[38;5;28mself\u001b[39m\u001b[38;5;241m.\u001b[39m_attr_to_rest_field[k], v)\n\u001b[0;32m    612\u001b[0m             \u001b[38;5;28;01mfor\u001b[39;00m k, v \u001b[38;5;129;01min\u001b[39;00m kwargs\u001b[38;5;241m.\u001b[39mitems()\n\u001b[0;32m    613\u001b[0m             \u001b[38;5;28;01mif\u001b[39;00m v \u001b[38;5;129;01mis\u001b[39;00m \u001b[38;5;129;01mnot\u001b[39;00m \u001b[38;5;28;01mNone\u001b[39;00m\n\u001b[0;32m    614\u001b[0m         }\n\u001b[0;32m    615\u001b[0m     )\n\u001b[0;32m    616\u001b[0m \u001b[38;5;28msuper\u001b[39m()\u001b[38;5;241m.\u001b[39m\u001b[38;5;21m__init__\u001b[39m(dict_to_pass)\n",
      "File \u001b[1;32mc:\\Users\\koheisaito\\AppData\\Local\\anaconda3\\Lib\\site-packages\\azure\\ai\\projects\\_utils\\model_base.py:531\u001b[0m, in \u001b[0;36m_create_value\u001b[1;34m(rf, value)\u001b[0m\n\u001b[0;32m    529\u001b[0m     \u001b[38;5;28;01mreturn\u001b[39;00m value\n\u001b[0;32m    530\u001b[0m \u001b[38;5;28;01mif\u001b[39;00m rf\u001b[38;5;241m.\u001b[39m_is_model:\n\u001b[1;32m--> 531\u001b[0m     \u001b[38;5;28;01mreturn\u001b[39;00m _deserialize(rf\u001b[38;5;241m.\u001b[39m_type, value)\n\u001b[0;32m    532\u001b[0m \u001b[38;5;28;01mif\u001b[39;00m \u001b[38;5;28misinstance\u001b[39m(value, ET\u001b[38;5;241m.\u001b[39mElement):\n\u001b[0;32m    533\u001b[0m     value \u001b[38;5;241m=\u001b[39m _deserialize(rf\u001b[38;5;241m.\u001b[39m_type, value)\n",
      "File \u001b[1;32mc:\\Users\\koheisaito\\AppData\\Local\\anaconda3\\Lib\\site-packages\\azure\\ai\\projects\\_utils\\model_base.py:938\u001b[0m, in \u001b[0;36m_deserialize\u001b[1;34m(deserializer, value, module, rf, format)\u001b[0m\n\u001b[0;32m    936\u001b[0m \u001b[38;5;28;01mif\u001b[39;00m \u001b[38;5;129;01mnot\u001b[39;00m \u001b[38;5;28misinstance\u001b[39m(deserializer, functools\u001b[38;5;241m.\u001b[39mpartial):\n\u001b[0;32m    937\u001b[0m     deserializer \u001b[38;5;241m=\u001b[39m _get_deserialize_callable_from_annotation(deserializer, module, rf)\n\u001b[1;32m--> 938\u001b[0m \u001b[38;5;28;01mreturn\u001b[39;00m _deserialize_with_callable(deserializer, value)\n",
      "File \u001b[1;32mc:\\Users\\koheisaito\\AppData\\Local\\anaconda3\\Lib\\site-packages\\azure\\ai\\projects\\_utils\\model_base.py:922\u001b[0m, in \u001b[0;36m_deserialize_with_callable\u001b[1;34m(deserializer, value)\u001b[0m\n\u001b[0;32m    920\u001b[0m     \u001b[38;5;28;01mreturn\u001b[39;00m typing\u001b[38;5;241m.\u001b[39mcast(typing\u001b[38;5;241m.\u001b[39mCallable[[typing\u001b[38;5;241m.\u001b[39mAny], typing\u001b[38;5;241m.\u001b[39mAny], deserializer)(value)\n\u001b[0;32m    921\u001b[0m \u001b[38;5;28;01mexcept\u001b[39;00m \u001b[38;5;167;01mException\u001b[39;00m \u001b[38;5;28;01mas\u001b[39;00m e:\n\u001b[1;32m--> 922\u001b[0m     \u001b[38;5;28;01mraise\u001b[39;00m DeserializationError() \u001b[38;5;28;01mfrom\u001b[39;00m \u001b[38;5;21;01me\u001b[39;00m\n",
      "\u001b[1;31mDeserializationError\u001b[0m: "
     ]
    }
   ],
   "source": [
    "from azure.ai.projects.models import AgentEvaluation, AgentEvaluationRequest\n",
    "\n",
    "\n",
    "eval_job: AgentEvaluation = project_client.evaluations.create_agent_evaluation(\n",
    "    evaluation=AgentEvaluationRequest(\n",
    "        evaluators={\n",
    "            \n",
    "        },\n",
    "        run_id=run_id\n",
    "    )\n",
    ")\n",
    "print(f\"Evaluation job created with ID: {eval_job.id}\")"
   ]
  },
  {
   "cell_type": "code",
   "execution_count": 12,
   "id": "18319857",
   "metadata": {},
   "outputs": [
    {
     "name": "stdout",
     "output_type": "stream",
     "text": [
      "Created thread, thread ID: thread_x3QbARV4THrjiomFrjLvgRyQ\n",
      "Created message, message ID: msg_9qZ9b4ULrRWqZPhlOtIhmVch\n",
      "Run status: RunStatus.COMPLETED\n",
      "{'id': 'thread_x3QbARV4THrjiomFrjLvgRyQ;run_xyS5eIN9CMoxAjnAE28gEKXm', 'status': 'Running', 'result': None, 'error': None}\n"
     ]
    }
   ],
   "source": [
    "import time\n",
    "\n",
    "from azure.ai.projects.models import (\n",
    "    AgentEvaluationRequest,\n",
    "    EvaluatorIds,\n",
    "    EvaluatorConfiguration,\n",
    "    AgentEvaluationSamplingConfiguration,\n",
    "    AgentEvaluationRedactionConfiguration,\n",
    ")\n",
    "\n",
    "\n",
    "thread = project_client.agents.threads.create()\n",
    "print(f\"Created thread, thread ID: {thread.id}\")\n",
    "\n",
    "message = project_client.agents.messages.create(\n",
    "            thread_id=thread.id, role=\"user\", content=\"Hello, tell me a joke\"\n",
    "        )\n",
    "print(f\"Created message, message ID: {message.id}\")\n",
    "\n",
    "run = project_client.agents.runs.create(thread_id=thread.id, agent_id=agent.id)\n",
    "\n",
    "while run.status in [\"queued\", \"in_progress\", \"requires_action\"]:\n",
    "    # Wait for a second\n",
    "    time.sleep(1)\n",
    "    run = project_client.agents.runs.get(thread_id=thread.id, run_id=run.id)\n",
    "    print(f\"Run status: {run.status}\")\n",
    "\n",
    "agent_evaluation_request = AgentEvaluationRequest(\n",
    "    run_id=run.id,\n",
    "    thread_id=thread.id,\n",
    "    evaluators={\n",
    "        \"violence\": EvaluatorConfiguration(\n",
    "            id=EvaluatorIds.VIOLENCE,\n",
    "        )\n",
    "    },\n",
    "    sampling_configuration=AgentEvaluationSamplingConfiguration(\n",
    "        name=\"test\",\n",
    "        sampling_percent=100,\n",
    "        max_request_rate=100,\n",
    "    ),\n",
    "    redaction_configuration=AgentEvaluationRedactionConfiguration(\n",
    "        redact_score_properties=False,\n",
    "    ),\n",
    "    app_insights_connection_string=project_client.telemetry.get_connection_string(),\n",
    ")\n",
    "\n",
    "agent_evaluation_response = project_client.evaluations.create_agent_evaluation(\n",
    "    evaluation=agent_evaluation_request\n",
    ")\n",
    "\n",
    "print(agent_evaluation_response)"
   ]
  },
  {
   "cell_type": "code",
   "execution_count": 13,
   "id": "6f508ef2",
   "metadata": {},
   "outputs": [
    {
     "name": "stdout",
     "output_type": "stream",
     "text": [
      "Get an authenticated Azure OpenAI client for the parent AI Services resource, and perform a chat completion operation:\n",
      "There are **5,280 feet** in a mile.\n"
     ]
    }
   ],
   "source": [
    "print(\n",
    "    \"Get an authenticated Azure OpenAI client for the parent AI Services resource, and perform a chat completion operation:\"\n",
    ")\n",
    "with project_client.inference.get_azure_openai_client(api_version=\"2024-10-21\") as client:\n",
    "\n",
    "    response = client.chat.completions.create(\n",
    "        model=os.environ[\"AGENT_MODEL_DEPLOYMENT_NAME\"],\n",
    "        messages=[\n",
    "            {\n",
    "                \"role\": \"user\",\n",
    "                \"content\": \"How many feet are in a mile?\",\n",
    "            },\n",
    "        ],\n",
    "    )\n",
    "\n",
    "    print(response.choices[0].message.content)\n"
   ]
  }
 ],
 "metadata": {
  "kernelspec": {
   "display_name": "base",
   "language": "python",
   "name": "python3"
  },
  "language_info": {
   "codemirror_mode": {
    "name": "ipython",
    "version": 3
   },
   "file_extension": ".py",
   "mimetype": "text/x-python",
   "name": "python",
   "nbconvert_exporter": "python",
   "pygments_lexer": "ipython3",
   "version": "3.12.7"
  }
 },
 "nbformat": 4,
 "nbformat_minor": 5
}
