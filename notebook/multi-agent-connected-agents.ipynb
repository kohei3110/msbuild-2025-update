{
 "cells": [
  {
   "cell_type": "code",
   "execution_count": null,
   "id": "5825864b",
   "metadata": {},
   "outputs": [],
   "source": [
    "# 仮想環境内でパッケージをインストール\n",
    "import sys\n",
    "!{sys.executable} -m pip install azure-ai-agents"
   ]
  },
  {
   "cell_type": "code",
   "execution_count": null,
   "id": "45348b7b",
   "metadata": {},
   "outputs": [],
   "source": [
    "from dotenv import load_dotenv\n",
    "\n",
    "load_dotenv('../concierge-agent/.env')"
   ]
  },
  {
   "cell_type": "code",
   "execution_count": null,
   "id": "536a8a39",
   "metadata": {},
   "outputs": [],
   "source": [
    "import os\n",
    "from azure.ai.agents import AgentsClient\n",
    "from azure.ai.agents.models import ConnectedAgentTool, AgentThreadCreationOptions, ListSortOrder\n",
    "from azure.identity import DefaultAzureCredential\n",
    "\n",
    "\n",
    "agents_client = AgentsClient(\n",
    "    endpoint=os.environ[\"PROJECT_CONNECTION_STRING\"],\n",
    "    credential=DefaultAzureCredential(),\n",
    ")"
   ]
  },
  {
   "cell_type": "code",
   "execution_count": null,
   "id": "02b20e13",
   "metadata": {},
   "outputs": [],
   "source": [
    "stock_price_agent = agents_client.create_agent(\n",
    "    model=os.environ[\"AGENT_MODEL_DEPLOYMENT_NAME\"],\n",
    "    name=\"stock_price_bot\",\n",
    "    instructions=\"Your job is to get the stock price of a company. If you don't know the realtime stock price, return the last known stock price.\",\n",
    "    #tools=... # tools to help the agent get stock prices\n",
    ")"
   ]
  },
  {
   "cell_type": "code",
   "execution_count": null,
   "id": "0cdd9121",
   "metadata": {},
   "outputs": [],
   "source": [
    "connected_agent = ConnectedAgentTool(\n",
    "    id=stock_price_agent.id, name=\"connected_agent\", description=\"Gets the stock price of a company\"\n",
    ")"
   ]
  },
  {
   "cell_type": "code",
   "execution_count": null,
   "id": "ac60fe8f",
   "metadata": {},
   "outputs": [],
   "source": [
    "agent = agents_client.create_agent(\n",
    "    model=os.environ[\"AGENT_MODEL_DEPLOYMENT_NAME\"],\n",
    "    name=\"my-agent\",\n",
    "    instructions=\"You are a helpful agent, and use the available tools to get stock prices.\",\n",
    "    tools=connected_agent.definitions,\n",
    ")\n",
    "\n",
    "print(f\"Created agent, ID: {agent.id}\")\n",
    "\n",
    "thread_run = agents_client.create_thread_and_process_run(\n",
    "    agent_id=agent.id,\n",
    "    thread=AgentThreadCreationOptions(\n",
    "        messages=[\n",
    "            {\n",
    "                \"role\": \"user\",\n",
    "                \"content\": \"What is the stock price of Microsoft?\",\n",
    "            }\n",
    "        ]\n",
    "    ),\n",
    ")\n",
    "print(f\"Created thread run, ID: {thread_run.id}\")\n",
    "print(f\"Thread run status: {thread_run.status}\")\n",
    "\n",
    "messages = agents_client.messages.list(thread_id=thread_run.thread_id, order=ListSortOrder.ASCENDING)\n",
    "for msg in messages:\n",
    "    if msg.text_messages:\n",
    "        last_text = msg.text_messages[-1]\n",
    "        print(f\"{msg.role}: {last_text.text.value}\")"
   ]
  },
  {
   "cell_type": "code",
   "execution_count": null,
   "id": "6be7f512",
   "metadata": {},
   "outputs": [],
   "source": [
    "agent = agents_client.create_agent(\n",
    "    model=os.environ[\"AGENT_MODEL_DEPLOYMENT_NAME\"],\n",
    "    name=\"my-agent\",\n",
    "    instructions=\"You are a helpful agent, and use the available tools to get stock prices.\",\n",
    "    tools=connected_agent.definitions,\n",
    ")\n",
    "\n",
    "print(f\"Created agent, ID: {agent.id}\")\n",
    "\n",
    "run = agents_client.create_thread_and_run(\n",
    "    agent_id=agent.id,\n",
    "    thread=AgentThreadCreationOptions(\n",
    "        messages=[\n",
    "            {\n",
    "                \"role\": \"user\",\n",
    "                \"content\": \"What is the stock price of Microsoft?\",\n",
    "            }\n",
    "        ]\n",
    "    ),\n",
    ")\n",
    "\n",
    "print(f\"Created thread run, ID: {run.id}\")\n",
    "print(f\"Thread run status: {run.status}\")\n",
    "\n",
    "messages = agents_client.messages.list(thread_id=run.thread_id, order=ListSortOrder.ASCENDING)\n",
    "for msg in messages:\n",
    "    if msg.text_messages:\n",
    "        last_text = msg.text_messages[-1]\n",
    "        print(f\"{msg.role}: {last_text.text.value}\")\n",
    "\n",
    "\n",
    "# Clean up resources\n",
    "agents_client.delete_agent(agent.id)"
   ]
  },
  {
   "cell_type": "markdown",
   "id": "1cfb80ab",
   "metadata": {},
   "source": [
    "### AI Foundry SDK から呼び出す"
   ]
  },
  {
   "cell_type": "code",
   "execution_count": null,
   "id": "38e190f3",
   "metadata": {},
   "outputs": [],
   "source": [
    "import os\n",
    "from azure.ai.projects import AIProjectClient\n",
    "from azure.identity import DefaultAzureCredential\n",
    "from azure.ai.agents.models import ConnectedAgentTool\n",
    "\n",
    "# Create an Azure AI Client from an endpoint, copied from your Azure AI Foundry project.\n",
    "# You need to login to Azure subscription via Azure CLI and set the environment variables\n",
    "project_endpoint = os.environ[\"PROJECT_CONNECTION_STRING\"]  # Ensure the PROJECT_ENDPOINT environment variable is set\n",
    "\n",
    "# Create an AIProjectClient instance\n",
    "project_client = AIProjectClient(\n",
    "    endpoint=project_endpoint,\n",
    "    credential=DefaultAzureCredential(),  # Use Azure Default Credential for authentication\n",
    ")\n",
    "\n",
    "connected_agent = ConnectedAgentTool(\n",
    "    id=stock_price_agent.id, name=\"connected_agent\", description=\"Gets the stock price of a company\"\n",
    ")\n",
    "\n",
    "with project_client:\n",
    "    # Create an agent with the Bing Grounding tool\n",
    "    agent = project_client.agents.create_agent(\n",
    "        model=os.environ[\"AGENT_MODEL_DEPLOYMENT_NAME\"],  # Model deployment name\n",
    "        name=\"my-agent\",  # Name of the agent\n",
    "        instructions=\"You are a helpful agent\",  # Instructions for the agent\n",
    "        tools=connected_agent.definitions,  # Attach the tool\n",
    "    )\n",
    "    print(f\"Created agent, ID: {agent.id}\")\n",
    "\n",
    "    # Create a thread for communication\n",
    "    thread = project_client.agents.threads.create()\n",
    "    print(f\"Created thread, ID: {thread.id}\")\n",
    "\n",
    "    # Add a message to the thread\n",
    "    message = project_client.agents.messages.create(\n",
    "        thread_id=thread.id,\n",
    "        role=\"user\",  # Role of the message sender\n",
    "        content=\"What is the weather in Seattle today?\",  # Message content\n",
    "    )\n",
    "    print(f\"Created message, ID: {message['id']}\")\n",
    "\n",
    "    # Create and process an agent run\n",
    "    run = project_client.agents.runs.create_and_process(thread_id=thread.id, agent_id=agent.id)\n",
    "    print(f\"Run finished with status: {run.status}\")\n",
    "\n",
    "    # Check if the run failed\n",
    "    if run.status == \"failed\":\n",
    "        print(f\"Run failed: {run.last_error}\")\n",
    "\n",
    "    # Fetch and log all messages\n",
    "    messages = project_client.agents.messages.list(thread_id=thread.id, order=ListSortOrder.ASCENDING)\n",
    "    for message in messages:\n",
    "        print(f\"Role: {message.role}, Content: {message.content}\")\n",
    "\n",
    "    # Delete the agent when done\n",
    "    project_client.agents.delete_agent(agent.id)\n",
    "    print(\"Deleted agent\")"
   ]
  },
  {
   "cell_type": "code",
   "execution_count": null,
   "id": "90cc8195",
   "metadata": {},
   "outputs": [],
   "source": []
  }
 ],
 "metadata": {
  "kernelspec": {
   "display_name": ".venv",
   "language": "python",
   "name": "python3"
  },
  "language_info": {
   "codemirror_mode": {
    "name": "ipython",
    "version": 3
   },
   "file_extension": ".py",
   "mimetype": "text/x-python",
   "name": "python",
   "nbconvert_exporter": "python",
   "pygments_lexer": "ipython3",
   "version": "3.12.10"
  }
 },
 "nbformat": 4,
 "nbformat_minor": 5
}
